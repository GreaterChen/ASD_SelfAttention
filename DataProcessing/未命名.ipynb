{
 "cells": [
  {
   "cell_type": "code",
   "execution_count": 2,
   "metadata": {},
   "outputs": [],
   "source": [
    "import pandas as pd\n",
    "import numpy as np\n",
    "import os"
   ]
  },
  {
   "cell_type": "code",
   "execution_count": 3,
   "metadata": {},
   "outputs": [],
   "source": [
    "root_path = '../raw_data/rois_aal_csv'\n",
    "files = os.listdir(root_path)"
   ]
  },
  {
   "cell_type": "code",
   "execution_count": 4,
   "metadata": {},
   "outputs": [
    {
     "data": {
      "text/plain": [
       "{'CMU_a_0050653_rois_aal.csv',\n",
       " 'CMU_b_0050651_rois_aal.csv',\n",
       " 'CMU_b_0050657_rois_aal.csv',\n",
       " 'CMU_b_0050669_rois_aal.csv',\n",
       " 'Caltech_0051457_rois_aal.csv',\n",
       " 'Caltech_0051458_rois_aal.csv',\n",
       " 'Caltech_0051459_rois_aal.csv',\n",
       " 'Caltech_0051460_rois_aal.csv',\n",
       " 'Caltech_0051464_rois_aal.csv',\n",
       " 'Caltech_0051466_rois_aal.csv',\n",
       " 'Caltech_0051467_rois_aal.csv',\n",
       " 'Caltech_0051468_rois_aal.csv',\n",
       " 'Caltech_0051469_rois_aal.csv',\n",
       " 'Caltech_0051471_rois_aal.csv',\n",
       " 'Caltech_0051473_rois_aal.csv',\n",
       " 'Caltech_0051478_rois_aal.csv',\n",
       " 'Caltech_0051483_rois_aal.csv',\n",
       " 'Caltech_0051485_rois_aal.csv',\n",
       " 'Caltech_0051487_rois_aal.csv',\n",
       " 'Caltech_0051489_rois_aal.csv',\n",
       " 'Caltech_0051490_rois_aal.csv',\n",
       " 'KKI_0050790_rois_aal.csv',\n",
       " 'Leuven_2_0050727_rois_aal.csv',\n",
       " 'MaxMun_a_0051364_rois_aal.csv',\n",
       " 'MaxMun_c_0051336_rois_aal.csv',\n",
       " 'NYU_0051020_rois_aal.csv',\n",
       " 'NYU_0051033_rois_aal.csv',\n",
       " 'NYU_0051036_rois_aal.csv',\n",
       " 'NYU_0051100_rois_aal.csv',\n",
       " 'NYU_0051118_rois_aal.csv',\n",
       " 'Pitt_0050004_rois_aal.csv',\n",
       " 'Pitt_0050007_rois_aal.csv',\n",
       " 'Pitt_0050011_rois_aal.csv',\n",
       " 'Pitt_0050016_rois_aal.csv',\n",
       " 'Pitt_0050024_rois_aal.csv',\n",
       " 'Pitt_0050032_rois_aal.csv',\n",
       " 'Pitt_0050035_rois_aal.csv',\n",
       " 'Pitt_0050037_rois_aal.csv',\n",
       " 'Pitt_0050041_rois_aal.csv',\n",
       " 'Pitt_0050045_rois_aal.csv',\n",
       " 'Pitt_0050050_rois_aal.csv',\n",
       " 'Pitt_0050052_rois_aal.csv',\n",
       " 'Pitt_0050060_rois_aal.csv',\n",
       " 'SBL_0051558_rois_aal.csv',\n",
       " 'SBL_0051560_rois_aal.csv',\n",
       " 'SBL_0051562_rois_aal.csv',\n",
       " 'SBL_0051564_rois_aal.csv',\n",
       " 'SBL_0051565_rois_aal.csv',\n",
       " 'SBL_0051566_rois_aal.csv',\n",
       " 'SBL_0051567_rois_aal.csv',\n",
       " 'SBL_0051571_rois_aal.csv',\n",
       " 'SBL_0051572_rois_aal.csv',\n",
       " 'SBL_0051573_rois_aal.csv',\n",
       " 'SBL_0051577_rois_aal.csv',\n",
       " 'SBL_0051578_rois_aal.csv',\n",
       " 'SBL_0051579_rois_aal.csv',\n",
       " 'SBL_0051580_rois_aal.csv',\n",
       " 'SBL_0051582_rois_aal.csv',\n",
       " 'SBL_0051583_rois_aal.csv',\n",
       " 'SBL_0051584_rois_aal.csv',\n",
       " 'SBL_0051585_rois_aal.csv',\n",
       " 'SDSU_0050182_rois_aal.csv',\n",
       " 'SDSU_0050184_rois_aal.csv',\n",
       " 'SDSU_0050195_rois_aal.csv',\n",
       " 'SDSU_0050209_rois_aal.csv',\n",
       " 'SDSU_0050210_rois_aal.csv',\n",
       " 'SDSU_0050216_rois_aal.csv',\n",
       " 'Trinity_0050259_rois_aal.csv'}"
      ]
     },
     "execution_count": 4,
     "metadata": {},
     "output_type": "execute_result"
    }
   ],
   "source": [
    "file_name = set()\n",
    "for file in files:\n",
    "    file_path = root_path + '/' + file\n",
    "    data = pd.read_csv(file_path)\n",
    "    for i in data.iloc[0]:\n",
    "        if i == 0 or pd.isna(i):\n",
    "            file_name.add(file)\n",
    "    for i in data.iloc[:,0]:\n",
    "        if i == 0 or pd.isna(i):\n",
    "            file_name.add(file)\n",
    "file_name"
   ]
  },
  {
   "cell_type": "code",
   "execution_count": 5,
   "metadata": {},
   "outputs": [
    {
     "data": {
      "text/plain": [
       "68"
      ]
     },
     "execution_count": 5,
     "metadata": {},
     "output_type": "execute_result"
    }
   ],
   "source": [
    "len(file_name)\n",
    "884-68"
   ]
  },
  {
   "cell_type": "code",
   "execution_count": null,
   "metadata": {},
   "outputs": [],
   "source": []
  }
 ],
 "metadata": {
  "kernelspec": {
   "display_name": "Python 3",
   "language": "python",
   "name": "python3"
  },
  "language_info": {
   "codemirror_mode": {
    "name": "ipython",
    "version": 3
   },
   "file_extension": ".py",
   "mimetype": "text/x-python",
   "name": "python",
   "nbconvert_exporter": "python",
   "pygments_lexer": "ipython3",
   "version": "3.8.5"
  }
 },
 "nbformat": 4,
 "nbformat_minor": 4
}
