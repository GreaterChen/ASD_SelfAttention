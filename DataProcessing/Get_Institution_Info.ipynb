{
 "cells": [
  {
   "cell_type": "code",
   "execution_count": 2,
   "metadata": {},
   "outputs": [],
   "source": [
    "import pandas as pd\n",
    "import numpy as np\n",
    "import os"
   ]
  },
  {
   "cell_type": "code",
   "execution_count": 27,
   "metadata": {},
   "outputs": [],
   "source": [
    "institutions_name = [\"Caltech\",\"CMU\",\"KKI\",\"Leuven_1\",\"Leuven_2\",\"Max_Mun\",\"NYU\",\"OHSU\",\"Olin\",\"Pitt\",\"SBL\",\"SDSU\",\"Stanford\",\"Trinity\",\"UCLA_1\",\"UCLA_2\",\"UM_1\",\"UM_2\",\"USM\",\"Yale\"]"
   ]
  },
  {
   "cell_type": "code",
   "execution_count": 28,
   "metadata": {},
   "outputs": [],
   "source": [
    "root_path = '../raw_data/rois_aal_csv_separate'"
   ]
  },
  {
   "cell_type": "code",
   "execution_count": 30,
   "metadata": {},
   "outputs": [],
   "source": [
    "file_num = []\n",
    "row = []\n",
    "columns = []"
   ]
  },
  {
   "cell_type": "code",
   "execution_count": 31,
   "metadata": {},
   "outputs": [],
   "source": [
    "for institution in institutions_name:\n",
    "    cnt = 0\n",
    "    ins_path = root_path + '/' + institution\n",
    "    files = os.listdir(ins_path)\n",
    "    for file in files:\n",
    "        cnt+=1\n",
    "    file_num.append(cnt)\n",
    "    data = pd.read_csv(ins_path + '/' + files[0])\n",
    "    row.append(data.shape[0])\n",
    "    columns.append(data.shape[1])"
   ]
  },
  {
   "cell_type": "code",
   "execution_count": 35,
   "metadata": {},
   "outputs": [
    {
     "data": {
      "text/plain": [
       "[37,\n",
       " 5,\n",
       " 39,\n",
       " 29,\n",
       " 32,\n",
       " 42,\n",
       " 171,\n",
       " 23,\n",
       " 25,\n",
       " 45,\n",
       " 26,\n",
       " 33,\n",
       " 36,\n",
       " 44,\n",
       " 55,\n",
       " 20,\n",
       " 82,\n",
       " 31,\n",
       " 61,\n",
       " 48]"
      ]
     },
     "execution_count": 35,
     "metadata": {},
     "output_type": "execute_result"
    }
   ],
   "source": [
    "file_num"
   ]
  },
  {
   "cell_type": "code",
   "execution_count": 36,
   "metadata": {},
   "outputs": [
    {
     "data": {
      "text/plain": [
       "[146,\n",
       " 236,\n",
       " 152,\n",
       " 246,\n",
       " 246,\n",
       " 116,\n",
       " 176,\n",
       " 78,\n",
       " 206,\n",
       " 196,\n",
       " 196,\n",
       " 176,\n",
       " 176,\n",
       " 146,\n",
       " 116,\n",
       " 116,\n",
       " 296,\n",
       " 296,\n",
       " 236,\n",
       " 196]"
      ]
     },
     "execution_count": 36,
     "metadata": {},
     "output_type": "execute_result"
    }
   ],
   "source": [
    "row"
   ]
  },
  {
   "cell_type": "code",
   "execution_count": 37,
   "metadata": {},
   "outputs": [
    {
     "data": {
      "text/plain": [
       "[116,\n",
       " 116,\n",
       " 116,\n",
       " 116,\n",
       " 116,\n",
       " 116,\n",
       " 116,\n",
       " 116,\n",
       " 116,\n",
       " 116,\n",
       " 116,\n",
       " 116,\n",
       " 116,\n",
       " 116,\n",
       " 116,\n",
       " 116,\n",
       " 116,\n",
       " 116,\n",
       " 116,\n",
       " 116]"
      ]
     },
     "execution_count": 37,
     "metadata": {},
     "output_type": "execute_result"
    }
   ],
   "source": [
    "columns"
   ]
  },
  {
   "cell_type": "code",
   "execution_count": 40,
   "metadata": {},
   "outputs": [
    {
     "data": {
      "text/html": [
       "<div>\n",
       "<style scoped>\n",
       "    .dataframe tbody tr th:only-of-type {\n",
       "        vertical-align: middle;\n",
       "    }\n",
       "\n",
       "    .dataframe tbody tr th {\n",
       "        vertical-align: top;\n",
       "    }\n",
       "\n",
       "    .dataframe thead th {\n",
       "        text-align: right;\n",
       "    }\n",
       "</style>\n",
       "<table border=\"1\" class=\"dataframe\">\n",
       "  <thead>\n",
       "    <tr style=\"text-align: right;\">\n",
       "      <th></th>\n",
       "      <th>name</th>\n",
       "      <th>num</th>\n",
       "      <th>row</th>\n",
       "      <th>columns</th>\n",
       "    </tr>\n",
       "  </thead>\n",
       "  <tbody>\n",
       "    <tr>\n",
       "      <th>0</th>\n",
       "      <td>Caltech</td>\n",
       "      <td>37</td>\n",
       "      <td>146</td>\n",
       "      <td>116</td>\n",
       "    </tr>\n",
       "    <tr>\n",
       "      <th>1</th>\n",
       "      <td>CMU</td>\n",
       "      <td>5</td>\n",
       "      <td>236</td>\n",
       "      <td>116</td>\n",
       "    </tr>\n",
       "    <tr>\n",
       "      <th>2</th>\n",
       "      <td>KKI</td>\n",
       "      <td>39</td>\n",
       "      <td>152</td>\n",
       "      <td>116</td>\n",
       "    </tr>\n",
       "    <tr>\n",
       "      <th>3</th>\n",
       "      <td>Leuven_1</td>\n",
       "      <td>29</td>\n",
       "      <td>246</td>\n",
       "      <td>116</td>\n",
       "    </tr>\n",
       "    <tr>\n",
       "      <th>4</th>\n",
       "      <td>Leuven_2</td>\n",
       "      <td>32</td>\n",
       "      <td>246</td>\n",
       "      <td>116</td>\n",
       "    </tr>\n",
       "    <tr>\n",
       "      <th>5</th>\n",
       "      <td>Max_Mun</td>\n",
       "      <td>42</td>\n",
       "      <td>116</td>\n",
       "      <td>116</td>\n",
       "    </tr>\n",
       "    <tr>\n",
       "      <th>6</th>\n",
       "      <td>NYU</td>\n",
       "      <td>171</td>\n",
       "      <td>176</td>\n",
       "      <td>116</td>\n",
       "    </tr>\n",
       "    <tr>\n",
       "      <th>7</th>\n",
       "      <td>OHSU</td>\n",
       "      <td>23</td>\n",
       "      <td>78</td>\n",
       "      <td>116</td>\n",
       "    </tr>\n",
       "    <tr>\n",
       "      <th>8</th>\n",
       "      <td>Olin</td>\n",
       "      <td>25</td>\n",
       "      <td>206</td>\n",
       "      <td>116</td>\n",
       "    </tr>\n",
       "    <tr>\n",
       "      <th>9</th>\n",
       "      <td>Pitt</td>\n",
       "      <td>45</td>\n",
       "      <td>196</td>\n",
       "      <td>116</td>\n",
       "    </tr>\n",
       "    <tr>\n",
       "      <th>10</th>\n",
       "      <td>SBL</td>\n",
       "      <td>26</td>\n",
       "      <td>196</td>\n",
       "      <td>116</td>\n",
       "    </tr>\n",
       "    <tr>\n",
       "      <th>11</th>\n",
       "      <td>SDSU</td>\n",
       "      <td>33</td>\n",
       "      <td>176</td>\n",
       "      <td>116</td>\n",
       "    </tr>\n",
       "    <tr>\n",
       "      <th>12</th>\n",
       "      <td>Stanford</td>\n",
       "      <td>36</td>\n",
       "      <td>176</td>\n",
       "      <td>116</td>\n",
       "    </tr>\n",
       "    <tr>\n",
       "      <th>13</th>\n",
       "      <td>Trinity</td>\n",
       "      <td>44</td>\n",
       "      <td>146</td>\n",
       "      <td>116</td>\n",
       "    </tr>\n",
       "    <tr>\n",
       "      <th>14</th>\n",
       "      <td>UCLA_1</td>\n",
       "      <td>55</td>\n",
       "      <td>116</td>\n",
       "      <td>116</td>\n",
       "    </tr>\n",
       "    <tr>\n",
       "      <th>15</th>\n",
       "      <td>UCLA_2</td>\n",
       "      <td>20</td>\n",
       "      <td>116</td>\n",
       "      <td>116</td>\n",
       "    </tr>\n",
       "    <tr>\n",
       "      <th>16</th>\n",
       "      <td>UM_1</td>\n",
       "      <td>82</td>\n",
       "      <td>296</td>\n",
       "      <td>116</td>\n",
       "    </tr>\n",
       "    <tr>\n",
       "      <th>17</th>\n",
       "      <td>UM_2</td>\n",
       "      <td>31</td>\n",
       "      <td>296</td>\n",
       "      <td>116</td>\n",
       "    </tr>\n",
       "    <tr>\n",
       "      <th>18</th>\n",
       "      <td>USM</td>\n",
       "      <td>61</td>\n",
       "      <td>236</td>\n",
       "      <td>116</td>\n",
       "    </tr>\n",
       "    <tr>\n",
       "      <th>19</th>\n",
       "      <td>Yale</td>\n",
       "      <td>48</td>\n",
       "      <td>196</td>\n",
       "      <td>116</td>\n",
       "    </tr>\n",
       "  </tbody>\n",
       "</table>\n",
       "</div>"
      ],
      "text/plain": [
       "        name  num  row  columns\n",
       "0    Caltech   37  146      116\n",
       "1        CMU    5  236      116\n",
       "2        KKI   39  152      116\n",
       "3   Leuven_1   29  246      116\n",
       "4   Leuven_2   32  246      116\n",
       "5    Max_Mun   42  116      116\n",
       "6        NYU  171  176      116\n",
       "7       OHSU   23   78      116\n",
       "8       Olin   25  206      116\n",
       "9       Pitt   45  196      116\n",
       "10       SBL   26  196      116\n",
       "11      SDSU   33  176      116\n",
       "12  Stanford   36  176      116\n",
       "13   Trinity   44  146      116\n",
       "14    UCLA_1   55  116      116\n",
       "15    UCLA_2   20  116      116\n",
       "16      UM_1   82  296      116\n",
       "17      UM_2   31  296      116\n",
       "18       USM   61  236      116\n",
       "19      Yale   48  196      116"
      ]
     },
     "execution_count": 40,
     "metadata": {},
     "output_type": "execute_result"
    }
   ],
   "source": [
    "ins_info = pd.DataFrame({\n",
    "    \"name\" : institutions_name,\n",
    "    \"num\" : file_num,\n",
    "    \"row\" : row,\n",
    "    \"columns\" : columns\n",
    "})\n",
    "ins_info"
   ]
  },
  {
   "cell_type": "code",
   "execution_count": 42,
   "metadata": {},
   "outputs": [],
   "source": [
    "ins_info.to_csv(\"../description/institution_info.csv\",index = False)"
   ]
  },
  {
   "cell_type": "code",
   "execution_count": null,
   "metadata": {},
   "outputs": [],
   "source": []
  }
 ],
 "metadata": {
  "kernelspec": {
   "display_name": "Python 3",
   "language": "python",
   "name": "python3"
  },
  "language_info": {
   "codemirror_mode": {
    "name": "ipython",
    "version": 3
   },
   "file_extension": ".py",
   "mimetype": "text/x-python",
   "name": "python",
   "nbconvert_exporter": "python",
   "pygments_lexer": "ipython3",
   "version": "3.8.5"
  }
 },
 "nbformat": 4,
 "nbformat_minor": 4
}
