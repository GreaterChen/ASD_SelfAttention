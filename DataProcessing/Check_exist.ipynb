{
 "cells": [
  {
   "cell_type": "code",
   "execution_count": 1,
   "metadata": {},
   "outputs": [],
   "source": [
    "import numpy as np\n",
    "import pandas as pd\n",
    "import os\n",
    "import re\n",
    "import warnings\n",
    "warnings.filterwarnings(\"ignore\")"
   ]
  },
  {
   "cell_type": "code",
   "execution_count": 2,
   "metadata": {},
   "outputs": [
    {
     "data": {
      "text/plain": "0      NaN\n1      NaN\n2      NaN\n3      NaN\n4      NaN\n        ..\n1107   NaN\n1108   NaN\n1109   NaN\n1110   NaN\n1111   NaN\nName: exist, Length: 1112, dtype: float64"
     },
     "execution_count": 2,
     "metadata": {},
     "output_type": "execute_result"
    }
   ],
   "source": [
    "description = pd.read_csv(\"../description/Phenotypic_V1_0b_change.csv\")\n",
    "description[\"exist\"]"
   ]
  },
  {
   "cell_type": "code",
   "execution_count": 3,
   "metadata": {},
   "outputs": [
    {
     "data": {
      "text/plain": "0       True\n1       True\n2       True\n3       True\n4       True\n        ... \n1107    True\n1108    True\n1109    True\n1110    True\n1111    True\nName: exist, Length: 1112, dtype: bool"
     },
     "execution_count": 3,
     "metadata": {},
     "output_type": "execute_result"
    }
   ],
   "source": [
    "pd.isna(description[\"exist\"])"
   ]
  },
  {
   "cell_type": "code",
   "execution_count": 4,
   "metadata": {},
   "outputs": [
    {
     "data": {
      "text/plain": "0       51456\n1       51457\n2       51458\n3       51459\n4       51460\n        ...  \n1107    50624\n1108    50625\n1109    50626\n1110    50627\n1111    50628\nName: SUB_ID, Length: 1112, dtype: int64"
     },
     "execution_count": 4,
     "metadata": {},
     "output_type": "execute_result"
    }
   ],
   "source": [
    "description[\"SUB_ID\"]"
   ]
  },
  {
   "cell_type": "code",
   "execution_count": 5,
   "metadata": {},
   "outputs": [
    {
     "data": {
      "text/plain": "0        True\n1       False\n2       False\n3       False\n4       False\n        ...  \n1107    False\n1108    False\n1109    False\n1110    False\n1111    False\nName: SUB_ID, Length: 1112, dtype: bool"
     },
     "execution_count": 5,
     "metadata": {},
     "output_type": "execute_result"
    }
   ],
   "source": [
    "description.loc[:][\"SUB_ID\"] == 51456"
   ]
  },
  {
   "cell_type": "code",
   "execution_count": 6,
   "metadata": {},
   "outputs": [
    {
     "data": {
      "text/plain": "0       CALTECH\n1       CALTECH\n2       CALTECH\n3       CALTECH\n4       CALTECH\n         ...   \n1107       YALE\n1108       YALE\n1109       YALE\n1110       YALE\n1111       YALE\nName: SITE_ID, Length: 1112, dtype: object"
     },
     "execution_count": 6,
     "metadata": {},
     "output_type": "execute_result"
    }
   ],
   "source": [
    "site_id = description['SITE_ID']\n",
    "site_id"
   ]
  },
  {
   "cell_type": "code",
   "execution_count": 7,
   "metadata": {},
   "outputs": [
    {
     "data": {
      "text/plain": "0       51456\n1       51457\n2       51458\n3       51459\n4       51460\n        ...  \n1107    50624\n1108    50625\n1109    50626\n1110    50627\n1111    50628\nName: SUB_ID, Length: 1112, dtype: int64"
     },
     "execution_count": 7,
     "metadata": {},
     "output_type": "execute_result"
    }
   ],
   "source": [
    "sub_id = description['SUB_ID']\n",
    "sub_id"
   ]
  },
  {
   "cell_type": "code",
   "execution_count": 8,
   "metadata": {},
   "outputs": [
    {
     "data": {
      "text/plain": "0       1\n1       1\n2       1\n3       1\n4       1\n       ..\n1107    1\n1108    1\n1109    1\n1110    1\n1111    1\nName: DX_GROUP, Length: 1112, dtype: int64"
     },
     "execution_count": 8,
     "metadata": {},
     "output_type": "execute_result"
    }
   ],
   "source": [
    "# 1为患病，2为未患病\n",
    "label = description['DX_GROUP']\n",
    "label"
   ]
  },
  {
   "cell_type": "code",
   "execution_count": 9,
   "metadata": {},
   "outputs": [
    {
     "data": {
      "text/plain": "0     51456\n1     51457\n2     51458\n3     51459\n4     51460\n5     51461\n6     51462\n7     51463\n8     51464\n9     51465\n10    51466\n11    51467\n12    51468\n13    51469\n14    51470\n15    51471\n16    51472\n17    51473\n18    51474\n19    51475\n20    51476\n21    51477\n22    51478\n23    51479\n24    51480\n25    51481\n26    51482\n27    51483\n28    51484\n29    51485\n30    51486\n31    51487\n32    51488\n33    51489\n34    51490\n35    51491\n36    51492\n37    51493\nName: SUB_ID, dtype: int64"
     },
     "execution_count": 9,
     "metadata": {},
     "output_type": "execute_result"
    }
   ],
   "source": [
    "description[description[\"SITE_ID\"] == \"CALTECH\"][\"SUB_ID\"]"
   ]
  },
  {
   "cell_type": "code",
   "execution_count": 10,
   "metadata": {},
   "outputs": [],
   "source": [
    "path = \"../raw_data/rois_aal_csv_separate/\"\n",
    "institutions_name = [\"Caltech\",\"CMU\",\"KKI\",\"Leuven_1\",\"Leuven_2\",\"Max_Mun\",\"NYU\",\"OHSU\",\"Olin\",\"Pitt\",\"SBL\",\"SDSU\",\"Stanford\",\"Trinity\",\"UCLA_1\",\"UCLA_2\",\"UM_1\",\"UM_2\",\"USM\",\"Yale\"]"
   ]
  },
  {
   "cell_type": "code",
   "execution_count": 11,
   "metadata": {},
   "outputs": [
    {
     "ename": "FileNotFoundError",
     "evalue": "[WinError 3] 系统找不到指定的路径。: '../raw_data/rois_aal_csv_separate/Caltech'",
     "output_type": "error",
     "traceback": [
      "\u001B[1;31m---------------------------------------------------------------------------\u001B[0m",
      "\u001B[1;31mFileNotFoundError\u001B[0m                         Traceback (most recent call last)",
      "Cell \u001B[1;32mIn[11], line 3\u001B[0m\n\u001B[0;32m      1\u001B[0m \u001B[38;5;28;01mfor\u001B[39;00m institution \u001B[38;5;129;01min\u001B[39;00m institutions_name:\n\u001B[0;32m      2\u001B[0m     ins_path \u001B[38;5;241m=\u001B[39m path \u001B[38;5;241m+\u001B[39m institution\n\u001B[1;32m----> 3\u001B[0m     files \u001B[38;5;241m=\u001B[39m \u001B[43mos\u001B[49m\u001B[38;5;241;43m.\u001B[39;49m\u001B[43mlistdir\u001B[49m\u001B[43m(\u001B[49m\u001B[43mins_path\u001B[49m\u001B[43m)\u001B[49m\n\u001B[0;32m      4\u001B[0m     \u001B[38;5;28;01mfor\u001B[39;00m \u001B[38;5;28mid\u001B[39m \u001B[38;5;129;01min\u001B[39;00m description[description[\u001B[38;5;124m\"\u001B[39m\u001B[38;5;124mSITE_ID\u001B[39m\u001B[38;5;124m\"\u001B[39m] \u001B[38;5;241m==\u001B[39m institution\u001B[38;5;241m.\u001B[39mupper()][\u001B[38;5;124m\"\u001B[39m\u001B[38;5;124mSUB_ID\u001B[39m\u001B[38;5;124m\"\u001B[39m]:\n\u001B[0;32m      5\u001B[0m         get \u001B[38;5;241m=\u001B[39m \u001B[38;5;241m0\u001B[39m\n",
      "\u001B[1;31mFileNotFoundError\u001B[0m: [WinError 3] 系统找不到指定的路径。: '../raw_data/rois_aal_csv_separate/Caltech'"
     ]
    }
   ],
   "source": [
    "for institution in institutions_name:\n",
    "    ins_path = path + institution\n",
    "    files = os.listdir(ins_path)\n",
    "    for id in description[description[\"SITE_ID\"] == institution.upper()][\"SUB_ID\"]:\n",
    "        get = 0\n",
    "        for file in files:\n",
    "            if re.search(str(id),file) == None:\n",
    "                continue\n",
    "            else:\n",
    "                description.exist[description.SUB_ID == id] = 1\n",
    "                get = 1\n",
    "                break\n",
    "        if get == 0:\n",
    "            description.exist[description.SUB_ID == id] = 0\n",
    "            description.reason[description.SUB_ID == id] = 0\n",
    "description"
   ]
  },
  {
   "cell_type": "code",
   "execution_count": null,
   "metadata": {},
   "outputs": [],
   "source": [
    "description[description[\"SITE_ID\"] == \"MAX_MUN\"]"
   ]
  },
  {
   "cell_type": "code",
   "execution_count": null,
   "metadata": {},
   "outputs": [],
   "source": [
    "sum(description[\"exist\"] == 1)"
   ]
  },
  {
   "cell_type": "code",
   "execution_count": null,
   "metadata": {},
   "outputs": [],
   "source": [
    "description[description[\"exist\"] == 1].to_csv(\"test.csv\")"
   ]
  }
 ],
 "metadata": {
  "kernelspec": {
   "display_name": "Python 3",
   "language": "python",
   "name": "python3"
  },
  "language_info": {
   "codemirror_mode": {
    "name": "ipython",
    "version": 3
   },
   "file_extension": ".py",
   "mimetype": "text/x-python",
   "name": "python",
   "nbconvert_exporter": "python",
   "pygments_lexer": "ipython3",
   "version": "3.8.5"
  }
 },
 "nbformat": 4,
 "nbformat_minor": 4
}
