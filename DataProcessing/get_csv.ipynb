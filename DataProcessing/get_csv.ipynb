{
 "cells": [
  {
   "cell_type": "code",
   "execution_count": 1,
   "metadata": {},
   "outputs": [],
   "source": [
    "import numpy as np\n",
    "import pandas as pd\n",
    "import os"
   ]
  },
  {
   "cell_type": "code",
   "execution_count": 3,
   "metadata": {},
   "outputs": [],
   "source": [
    "all_content = []\n",
    "path = \"../raw_data/rois_aal\"\n",
    "files =os.listdir(path)\n",
    "file_name = []\n",
    "for file in files:\n",
    "    file_name.append(file)\n",
    "    f = open(path + \"/\" + file)\n",
    "    content = f.read().split(\"\\n\")\n",
    "    content = content[:-1] \n",
    "    all_content.append(content)\n"
   ]
  },
  {
   "cell_type": "code",
   "execution_count": 35,
   "metadata": {},
   "outputs": [],
   "source": [
    "all_title = []\n",
    "for content in all_content:\n",
    "    title = content[0].split(\"\\t\")\n",
    "    all_title.append(title)\n"
   ]
  },
  {
   "cell_type": "code",
   "execution_count": 36,
   "metadata": {},
   "outputs": [],
   "source": [
    "all_data = []\n",
    "for content in all_content:\n",
    "    data_signle = []\n",
    "    for item in content[1:]:\n",
    "        item = item.split(\"\\t\")\n",
    "        data_signle.append(item)\n",
    "    all_data.append(data_signle)\n"
   ]
  },
  {
   "cell_type": "code",
   "execution_count": 37,
   "metadata": {},
   "outputs": [],
   "source": [
    "all_data_num = []\n",
    "for data in all_data:\n",
    "    data_signle = []\n",
    "    for item in data:\n",
    "        data_line = []\n",
    "        for string in item:\n",
    "            if string[0] == '-':\n",
    "                num = (-1)*float(string[1:])\n",
    "            else:\n",
    "                num = float(string)\n",
    "            data_line.append(num)\n",
    "        data_signle.append(data_line)\n",
    "    data_signle = pd.DataFrame(data_signle)\n",
    "    all_data_num.append(data_signle)\n"
   ]
  },
  {
   "cell_type": "code",
   "execution_count": 38,
   "metadata": {},
   "outputs": [
    {
     "name": "stdout",
     "output_type": "stream",
     "text": [
      "总共的个体数: 884\n",
      "第一个个体的shape: (146, 116)\n"
     ]
    }
   ],
   "source": [
    "print(\"总共的个体数:\",len(all_data_num))\n",
    "print(\"第一个个体的shape:\",all_data_num[0].shape)"
   ]
  },
  {
   "cell_type": "code",
   "execution_count": 39,
   "metadata": {},
   "outputs": [],
   "source": [
    "for i,title in enumerate(all_title):\n",
    "    title = pd.DataFrame(title)\n",
    "    title = pd.DataFrame(title.values.T, index=title.columns, columns=title.index)\n",
    "    title.to_csv(\"data/{}.csv\".format(file_name[i][:-3]),header=False,index=False)"
   ]
  },
  {
   "cell_type": "code",
   "execution_count": 40,
   "metadata": {},
   "outputs": [],
   "source": [
    "for i,data in enumerate(all_data_num):\n",
    "    data.to_csv(\"data/{}.csv\".format(file_name[i][:-3]),mode = 'a',header=False,index=False)"
   ]
  },
  {
   "cell_type": "code",
   "execution_count": 4,
   "metadata": {},
   "outputs": [
    {
     "data": {
      "text/plain": "'Caltech_0051456_rois_aal'"
     },
     "execution_count": 4,
     "metadata": {},
     "output_type": "execute_result"
    }
   ],
   "source": [
    "file_name[0][:-3]"
   ]
  },
  {
   "cell_type": "code",
   "execution_count": 4,
   "metadata": {},
   "outputs": [],
   "source": []
  },
  {
   "cell_type": "code",
   "execution_count": null,
   "outputs": [],
   "source": [],
   "metadata": {
    "collapsed": false,
    "pycharm": {
     "name": "#%%\n"
    }
   }
  }
 ],
 "metadata": {
  "kernelspec": {
   "display_name": "Python 3",
   "language": "python",
   "name": "python3"
  },
  "language_info": {
   "codemirror_mode": {
    "name": "ipython",
    "version": 3
   },
   "file_extension": ".py",
   "mimetype": "text/x-python",
   "name": "python",
   "nbconvert_exporter": "python",
   "pygments_lexer": "ipython3",
   "version": "3.8.5"
  }
 },
 "nbformat": 4,
 "nbformat_minor": 4
}