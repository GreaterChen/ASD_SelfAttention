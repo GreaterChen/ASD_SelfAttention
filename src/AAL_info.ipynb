{
 "cells": [
  {
   "cell_type": "code",
   "execution_count": 1,
   "outputs": [],
   "source": [
    "import scipy.io as io\n",
    "import pandas as pd\n",
    "import numpy as np\n",
    "import json"
   ],
   "metadata": {
    "collapsed": false
   }
  },
  {
   "cell_type": "code",
   "execution_count": 2,
   "outputs": [],
   "source": [
    "label_26 = ['Cerebelum_Crus1_L','Cerebelum_Crus1_R','Cerebelum_Crus2_L','Cerebelum_Crus2_R','Cerebelum_3_L','Cerebelum_3_R','Cerebelum_4_5_L','Cerebelum_4_5_R','Cerebelum_6_L','Cerebelum_6_R','Cerebelum_7b_L','Cerebelum_7b_R','Cerebelum_8_L','Cerebelum_8R','Cerebelum_9_L','Cerebelum_9_R','Cerebelum_10_L','Cerebelum_10_R','Vermis_1_2','Vermis_3','Vermis_4_5','Vermis_6','Vermis_7','Vermis_8','Vermis_9','Vermis_10']"
   ],
   "metadata": {
    "collapsed": false
   }
  },
  {
   "cell_type": "code",
   "execution_count": 3,
   "outputs": [
    {
     "name": "stdout",
     "output_type": "stream",
     "text": [
      "dict_keys(['__header__', '__version__', '__globals__', 'ROILabel', 'Table', 'AAL_Center', 'AALROIs_Euclidean_Distance'])\n"
     ]
    },
    {
     "data": {
      "text/plain": "['PreCG.L',\n 'PreCG.R',\n 'SFGdor.L',\n 'SFGdor.R',\n 'ORBsup.L',\n 'ORBsup.R',\n 'MFG.L',\n 'MFG.R',\n 'ORBmid.L',\n 'ORBmid.R',\n 'IFGoperc.L',\n 'IFGoperc.R',\n 'IFGtriang.L',\n 'IFGtriang.R',\n 'ORBinf.L',\n 'ORBinf.R',\n 'ROL.L',\n 'ROL.R',\n 'SMA.L',\n 'SMA.R',\n 'OLF.L',\n 'OLF.R',\n 'SFGmed.L',\n 'SFGmed.R',\n 'ORBsupmed.L',\n 'ORBsupmed.R',\n 'REC.L',\n 'REC.R',\n 'INS.L',\n 'INS.R',\n 'ACG.L',\n 'ACG.R',\n 'DCG.L',\n 'DCG.R',\n 'PCG.L',\n 'PCG.R',\n 'HIP.L',\n 'HIP.R',\n 'PHG.L',\n 'PHG.R',\n 'AMYG.L',\n 'AMYG.R',\n 'CAL.L',\n 'CAL.R',\n 'CUN.L',\n 'CUN.R',\n 'LING.L',\n 'LING.R',\n 'SOG.L',\n 'SOG.R',\n 'MOG.L',\n 'MOG.R',\n 'IOG.L',\n 'IOG.R',\n 'FFG.L',\n 'FFG.R',\n 'PoCG.L',\n 'PoCG.R',\n 'SPG.L',\n 'SPG.R',\n 'IPL.L',\n 'IPL.R',\n 'SMG.L',\n 'SMG.R',\n 'ANG.L',\n 'ANG.R',\n 'PCUN.L',\n 'PCUN.R',\n 'PCL.L',\n 'PCL.R',\n 'CAU.L',\n 'CAU.R',\n 'PUT.L',\n 'PUT.R',\n 'PAL.L',\n 'PAL.R',\n 'THA.L',\n 'THA.R',\n 'HES.L',\n 'HES.R',\n 'STG.L',\n 'STG.R',\n 'TPOsup.L',\n 'TPOsup.R',\n 'MTG.L',\n 'MTG.R',\n 'TPOmid.L',\n 'TPOmid.R',\n 'ITG.L',\n 'ITG.R']"
     },
     "execution_count": 3,
     "metadata": {},
     "output_type": "execute_result"
    }
   ],
   "source": [
    "data = io.loadmat('../description/CenterOfMass_AAL.mat')\n",
    "print(data.keys())\n",
    "label_90 = []\n",
    "for i in range(len(data['ROILabel'])):\n",
    "    label_90.append(data['ROILabel'][i][0][0])\n",
    "label_90"
   ],
   "metadata": {
    "collapsed": false
   }
  },
  {
   "cell_type": "code",
   "execution_count": 4,
   "outputs": [
    {
     "data": {
      "text/plain": "['PreCG.L',\n 'PreCG.R',\n 'SFGdor.L',\n 'SFGdor.R',\n 'ORBsup.L',\n 'ORBsup.R',\n 'MFG.L',\n 'MFG.R',\n 'ORBmid.L',\n 'ORBmid.R',\n 'IFGoperc.L',\n 'IFGoperc.R',\n 'IFGtriang.L',\n 'IFGtriang.R',\n 'ORBinf.L',\n 'ORBinf.R',\n 'ROL.L',\n 'ROL.R',\n 'SMA.L',\n 'SMA.R',\n 'OLF.L',\n 'OLF.R',\n 'SFGmed.L',\n 'SFGmed.R',\n 'ORBsupmed.L',\n 'ORBsupmed.R',\n 'REC.L',\n 'REC.R',\n 'INS.L',\n 'INS.R',\n 'ACG.L',\n 'ACG.R',\n 'DCG.L',\n 'DCG.R',\n 'PCG.L',\n 'PCG.R',\n 'HIP.L',\n 'HIP.R',\n 'PHG.L',\n 'PHG.R',\n 'AMYG.L',\n 'AMYG.R',\n 'CAL.L',\n 'CAL.R',\n 'CUN.L',\n 'CUN.R',\n 'LING.L',\n 'LING.R',\n 'SOG.L',\n 'SOG.R',\n 'MOG.L',\n 'MOG.R',\n 'IOG.L',\n 'IOG.R',\n 'FFG.L',\n 'FFG.R',\n 'PoCG.L',\n 'PoCG.R',\n 'SPG.L',\n 'SPG.R',\n 'IPL.L',\n 'IPL.R',\n 'SMG.L',\n 'SMG.R',\n 'ANG.L',\n 'ANG.R',\n 'PCUN.L',\n 'PCUN.R',\n 'PCL.L',\n 'PCL.R',\n 'CAU.L',\n 'CAU.R',\n 'PUT.L',\n 'PUT.R',\n 'PAL.L',\n 'PAL.R',\n 'THA.L',\n 'THA.R',\n 'HES.L',\n 'HES.R',\n 'STG.L',\n 'STG.R',\n 'TPOsup.L',\n 'TPOsup.R',\n 'MTG.L',\n 'MTG.R',\n 'TPOmid.L',\n 'TPOmid.R',\n 'ITG.L',\n 'ITG.R',\n 'Cerebelum_Crus1_L',\n 'Cerebelum_Crus1_R',\n 'Cerebelum_Crus2_L',\n 'Cerebelum_Crus2_R',\n 'Cerebelum_3_L',\n 'Cerebelum_3_R',\n 'Cerebelum_4_5_L',\n 'Cerebelum_4_5_R',\n 'Cerebelum_6_L',\n 'Cerebelum_6_R',\n 'Cerebelum_7b_L',\n 'Cerebelum_7b_R',\n 'Cerebelum_8_L',\n 'Cerebelum_8R',\n 'Cerebelum_9_L',\n 'Cerebelum_9_R',\n 'Cerebelum_10_L',\n 'Cerebelum_10_R',\n 'Vermis_1_2',\n 'Vermis_3',\n 'Vermis_4_5',\n 'Vermis_6',\n 'Vermis_7',\n 'Vermis_8',\n 'Vermis_9',\n 'Vermis_10']"
     },
     "execution_count": 4,
     "metadata": {},
     "output_type": "execute_result"
    }
   ],
   "source": [
    "label_116 = label_90 + label_26\n",
    "label_116"
   ],
   "metadata": {
    "collapsed": false
   }
  },
  {
   "cell_type": "code",
   "execution_count": 5,
   "outputs": [],
   "source": [
    "axis = pd.DataFrame(data['AAL_Center'],columns=['x','y','z'])\n",
    "axis['label'] = label_116\n",
    "axis.to_csv(\"../description/AAL_Center.csv\",index=False)"
   ],
   "metadata": {
    "collapsed": false
   }
  },
  {
   "cell_type": "code",
   "execution_count": 17,
   "outputs": [],
   "source": [
    "jsons = {}"
   ],
   "metadata": {
    "collapsed": false
   }
  },
  {
   "cell_type": "code",
   "execution_count": 18,
   "outputs": [
    {
     "data": {
      "text/plain": "[{'source': 30, 'target': 87},\n {'source': 9, 'target': 67},\n {'source': 22, 'target': 27},\n {'source': 57, 'target': 77},\n {'source': 80, 'target': 77},\n {'source': 8, 'target': 9},\n {'source': 23, 'target': 27},\n {'source': 23, 'target': 87},\n {'source': 77, 'target': 81},\n {'source': 22, 'target': 87},\n {'source': 8, 'target': 26},\n {'source': 17, 'target': 77},\n {'source': 9, 'target': 87},\n {'source': 26, 'target': 84},\n {'source': 67, 'target': 87},\n {'source': 35, 'target': 61},\n {'source': 8, 'target': 87},\n {'source': 80, 'target': 91},\n {'source': 60, 'target': 35},\n {'source': 66, 'target': 9}]"
     },
     "execution_count": 18,
     "metadata": {},
     "output_type": "execute_result"
    }
   ],
   "source": [
    "links = []\n",
    "links.append(dict({'source':30,\"target\":87}))\n",
    "links.append(dict({'source':9,\"target\":67}))\n",
    "links.append(dict({'source':22,\"target\":27}))\n",
    "links.append(dict({'source':57,\"target\":77}))\n",
    "links.append(dict({'source':80,\"target\":77}))\n",
    "links.append(dict({'source':8,\"target\":9}))\n",
    "links.append(dict({'source':23,\"target\":27}))\n",
    "links.append(dict({'source':23,\"target\":87}))\n",
    "links.append(dict({'source':77,\"target\":81}))\n",
    "links.append(dict({'source':22,\"target\":87}))\n",
    "links.append(dict({'source':8,\"target\":26}))\n",
    "links.append(dict({'source':17,\"target\":77}))\n",
    "links.append(dict({'source':9,\"target\":87}))\n",
    "links.append(dict({'source':26,\"target\":84}))\n",
    "links.append(dict({'source':67,\"target\":87}))\n",
    "links.append(dict({'source':35,\"target\":61}))\n",
    "links.append(dict({'source':8,\"target\":87}))\n",
    "links.append(dict({'source':80,\"target\":91}))\n",
    "links.append(dict({'source':60,\"target\":35}))\n",
    "links.append(dict({'source':66,\"target\":9}))\n",
    "jsons['links'] = links\n",
    "links"
   ],
   "metadata": {
    "collapsed": false
   }
  },
  {
   "cell_type": "code",
   "execution_count": 33,
   "outputs": [
    {
     "data": {
      "text/plain": "array([0., 0., 0., 0., 0., 0., 0., 0., 3., 4., 0., 0., 0., 0., 0., 0., 0.,\n       1., 0., 0., 0., 0., 2., 2., 0., 0., 2., 2., 0., 0., 1., 0., 0., 0.,\n       0., 2., 0., 0., 0., 0., 0., 0., 0., 0., 0., 0., 0., 0., 0., 0., 0.,\n       0., 0., 0., 0., 0., 0., 1., 0., 0., 1., 1., 0., 0., 0., 0., 1., 2.,\n       0., 0., 0., 0., 0., 0., 0., 0., 0., 4., 0., 0., 2., 1., 0., 0., 1.,\n       0., 0., 6., 0., 0., 0., 1., 0., 0., 0., 0., 0., 0., 0., 0., 0., 0.,\n       0., 0., 0., 0., 0., 0., 0., 0., 0., 0., 0., 0., 0., 0.])"
     },
     "execution_count": 33,
     "metadata": {},
     "output_type": "execute_result"
    }
   ],
   "source": [
    "size = np.zeros((116,))\n",
    "for item in links:\n",
    "    size[item['source']] += 1\n",
    "    size[item['target']] += 1\n",
    "size"
   ],
   "metadata": {
    "collapsed": false
   }
  },
  {
   "cell_type": "code",
   "execution_count": 34,
   "outputs": [
    {
     "data": {
      "text/plain": "[{'id': 0, 'name': 'PreCG.L', 'symbolSize': 10.0, 'value': 1, 'category': 0},\n {'id': 1, 'name': 'PreCG.R', 'symbolSize': 10.0, 'value': 1, 'category': 0},\n {'id': 2, 'name': 'SFGdor.L', 'symbolSize': 10.0, 'value': 1, 'category': 0},\n {'id': 3, 'name': 'SFGdor.R', 'symbolSize': 10.0, 'value': 1, 'category': 0},\n {'id': 4, 'name': 'ORBsup.L', 'symbolSize': 10.0, 'value': 1, 'category': 0},\n {'id': 5, 'name': 'ORBsup.R', 'symbolSize': 10.0, 'value': 1, 'category': 0},\n {'id': 6, 'name': 'MFG.L', 'symbolSize': 10.0, 'value': 1, 'category': 0},\n {'id': 7, 'name': 'MFG.R', 'symbolSize': 10.0, 'value': 1, 'category': 0},\n {'id': 8, 'name': 'ORBmid.L', 'symbolSize': 25.0, 'value': 1, 'category': 0},\n {'id': 9, 'name': 'ORBmid.R', 'symbolSize': 30.0, 'value': 1, 'category': 0},\n {'id': 10,\n  'name': 'IFGoperc.L',\n  'symbolSize': 10.0,\n  'value': 1,\n  'category': 0},\n {'id': 11,\n  'name': 'IFGoperc.R',\n  'symbolSize': 10.0,\n  'value': 1,\n  'category': 0},\n {'id': 12,\n  'name': 'IFGtriang.L',\n  'symbolSize': 10.0,\n  'value': 1,\n  'category': 0},\n {'id': 13,\n  'name': 'IFGtriang.R',\n  'symbolSize': 10.0,\n  'value': 1,\n  'category': 0},\n {'id': 14, 'name': 'ORBinf.L', 'symbolSize': 10.0, 'value': 1, 'category': 0},\n {'id': 15, 'name': 'ORBinf.R', 'symbolSize': 10.0, 'value': 1, 'category': 0},\n {'id': 16, 'name': 'ROL.L', 'symbolSize': 10.0, 'value': 1, 'category': 0},\n {'id': 17, 'name': 'ROL.R', 'symbolSize': 15.0, 'value': 1, 'category': 0},\n {'id': 18, 'name': 'SMA.L', 'symbolSize': 10.0, 'value': 1, 'category': 0},\n {'id': 19, 'name': 'SMA.R', 'symbolSize': 10.0, 'value': 1, 'category': 0},\n {'id': 20, 'name': 'OLF.L', 'symbolSize': 10.0, 'value': 1, 'category': 0},\n {'id': 21, 'name': 'OLF.R', 'symbolSize': 10.0, 'value': 1, 'category': 0},\n {'id': 22, 'name': 'SFGmed.L', 'symbolSize': 20.0, 'value': 1, 'category': 0},\n {'id': 23, 'name': 'SFGmed.R', 'symbolSize': 20.0, 'value': 1, 'category': 0},\n {'id': 24,\n  'name': 'ORBsupmed.L',\n  'symbolSize': 10.0,\n  'value': 1,\n  'category': 0},\n {'id': 25,\n  'name': 'ORBsupmed.R',\n  'symbolSize': 10.0,\n  'value': 1,\n  'category': 0},\n {'id': 26, 'name': 'REC.L', 'symbolSize': 20.0, 'value': 1, 'category': 0},\n {'id': 27, 'name': 'REC.R', 'symbolSize': 20.0, 'value': 1, 'category': 0},\n {'id': 28, 'name': 'INS.L', 'symbolSize': 10.0, 'value': 1, 'category': 0},\n {'id': 29, 'name': 'INS.R', 'symbolSize': 10.0, 'value': 1, 'category': 0},\n {'id': 30, 'name': 'ACG.L', 'symbolSize': 15.0, 'value': 1, 'category': 0},\n {'id': 31, 'name': 'ACG.R', 'symbolSize': 10.0, 'value': 1, 'category': 0},\n {'id': 32, 'name': 'DCG.L', 'symbolSize': 10.0, 'value': 1, 'category': 0},\n {'id': 33, 'name': 'DCG.R', 'symbolSize': 10.0, 'value': 1, 'category': 0},\n {'id': 34, 'name': 'PCG.L', 'symbolSize': 10.0, 'value': 1, 'category': 0},\n {'id': 35, 'name': 'PCG.R', 'symbolSize': 20.0, 'value': 1, 'category': 0},\n {'id': 36, 'name': 'HIP.L', 'symbolSize': 10.0, 'value': 1, 'category': 0},\n {'id': 37, 'name': 'HIP.R', 'symbolSize': 10.0, 'value': 1, 'category': 0},\n {'id': 38, 'name': 'PHG.L', 'symbolSize': 10.0, 'value': 1, 'category': 0},\n {'id': 39, 'name': 'PHG.R', 'symbolSize': 10.0, 'value': 1, 'category': 0},\n {'id': 40, 'name': 'AMYG.L', 'symbolSize': 10.0, 'value': 1, 'category': 0},\n {'id': 41, 'name': 'AMYG.R', 'symbolSize': 10.0, 'value': 1, 'category': 0},\n {'id': 42, 'name': 'CAL.L', 'symbolSize': 10.0, 'value': 1, 'category': 0},\n {'id': 43, 'name': 'CAL.R', 'symbolSize': 10.0, 'value': 1, 'category': 0},\n {'id': 44, 'name': 'CUN.L', 'symbolSize': 10.0, 'value': 1, 'category': 0},\n {'id': 45, 'name': 'CUN.R', 'symbolSize': 10.0, 'value': 1, 'category': 0},\n {'id': 46, 'name': 'LING.L', 'symbolSize': 10.0, 'value': 1, 'category': 0},\n {'id': 47, 'name': 'LING.R', 'symbolSize': 10.0, 'value': 1, 'category': 0},\n {'id': 48, 'name': 'SOG.L', 'symbolSize': 10.0, 'value': 1, 'category': 0},\n {'id': 49, 'name': 'SOG.R', 'symbolSize': 10.0, 'value': 1, 'category': 0},\n {'id': 50, 'name': 'MOG.L', 'symbolSize': 10.0, 'value': 1, 'category': 0},\n {'id': 51, 'name': 'MOG.R', 'symbolSize': 10.0, 'value': 1, 'category': 0},\n {'id': 52, 'name': 'IOG.L', 'symbolSize': 10.0, 'value': 1, 'category': 0},\n {'id': 53, 'name': 'IOG.R', 'symbolSize': 10.0, 'value': 1, 'category': 0},\n {'id': 54, 'name': 'FFG.L', 'symbolSize': 10.0, 'value': 1, 'category': 0},\n {'id': 55, 'name': 'FFG.R', 'symbolSize': 10.0, 'value': 1, 'category': 0},\n {'id': 56, 'name': 'PoCG.L', 'symbolSize': 10.0, 'value': 1, 'category': 0},\n {'id': 57, 'name': 'PoCG.R', 'symbolSize': 15.0, 'value': 1, 'category': 0},\n {'id': 58, 'name': 'SPG.L', 'symbolSize': 10.0, 'value': 1, 'category': 0},\n {'id': 59, 'name': 'SPG.R', 'symbolSize': 10.0, 'value': 1, 'category': 0},\n {'id': 60, 'name': 'IPL.L', 'symbolSize': 15.0, 'value': 1, 'category': 0},\n {'id': 61, 'name': 'IPL.R', 'symbolSize': 15.0, 'value': 1, 'category': 0},\n {'id': 62, 'name': 'SMG.L', 'symbolSize': 10.0, 'value': 1, 'category': 0},\n {'id': 63, 'name': 'SMG.R', 'symbolSize': 10.0, 'value': 1, 'category': 0},\n {'id': 64, 'name': 'ANG.L', 'symbolSize': 10.0, 'value': 1, 'category': 0},\n {'id': 65, 'name': 'ANG.R', 'symbolSize': 10.0, 'value': 1, 'category': 0},\n {'id': 66, 'name': 'PCUN.L', 'symbolSize': 15.0, 'value': 1, 'category': 0},\n {'id': 67, 'name': 'PCUN.R', 'symbolSize': 20.0, 'value': 1, 'category': 0},\n {'id': 68, 'name': 'PCL.L', 'symbolSize': 10.0, 'value': 1, 'category': 0},\n {'id': 69, 'name': 'PCL.R', 'symbolSize': 10.0, 'value': 1, 'category': 0},\n {'id': 70, 'name': 'CAU.L', 'symbolSize': 10.0, 'value': 1, 'category': 0},\n {'id': 71, 'name': 'CAU.R', 'symbolSize': 10.0, 'value': 1, 'category': 0},\n {'id': 72, 'name': 'PUT.L', 'symbolSize': 10.0, 'value': 1, 'category': 0},\n {'id': 73, 'name': 'PUT.R', 'symbolSize': 10.0, 'value': 1, 'category': 0},\n {'id': 74, 'name': 'PAL.L', 'symbolSize': 10.0, 'value': 1, 'category': 0},\n {'id': 75, 'name': 'PAL.R', 'symbolSize': 10.0, 'value': 1, 'category': 0},\n {'id': 76, 'name': 'THA.L', 'symbolSize': 10.0, 'value': 1, 'category': 0},\n {'id': 77, 'name': 'THA.R', 'symbolSize': 30.0, 'value': 1, 'category': 0},\n {'id': 78, 'name': 'HES.L', 'symbolSize': 10.0, 'value': 1, 'category': 0},\n {'id': 79, 'name': 'HES.R', 'symbolSize': 10.0, 'value': 1, 'category': 0},\n {'id': 80, 'name': 'STG.L', 'symbolSize': 20.0, 'value': 1, 'category': 0},\n {'id': 81, 'name': 'STG.R', 'symbolSize': 15.0, 'value': 1, 'category': 0},\n {'id': 82, 'name': 'TPOsup.L', 'symbolSize': 10.0, 'value': 1, 'category': 0},\n {'id': 83, 'name': 'TPOsup.R', 'symbolSize': 10.0, 'value': 1, 'category': 0},\n {'id': 84, 'name': 'MTG.L', 'symbolSize': 15.0, 'value': 1, 'category': 0},\n {'id': 85, 'name': 'MTG.R', 'symbolSize': 10.0, 'value': 1, 'category': 0},\n {'id': 86, 'name': 'TPOmid.L', 'symbolSize': 10.0, 'value': 1, 'category': 0},\n {'id': 87, 'name': 'TPOmid.R', 'symbolSize': 40.0, 'value': 1, 'category': 0},\n {'id': 88, 'name': 'ITG.L', 'symbolSize': 10.0, 'value': 1, 'category': 0},\n {'id': 89, 'name': 'ITG.R', 'symbolSize': 10.0, 'value': 1, 'category': 0},\n {'id': 90,\n  'name': 'Cerebelum_Crus1_L',\n  'symbolSize': 10.0,\n  'value': 1,\n  'category': 0},\n {'id': 91,\n  'name': 'Cerebelum_Crus1_R',\n  'symbolSize': 15.0,\n  'value': 1,\n  'category': 0},\n {'id': 92,\n  'name': 'Cerebelum_Crus2_L',\n  'symbolSize': 10.0,\n  'value': 1,\n  'category': 0},\n {'id': 93,\n  'name': 'Cerebelum_Crus2_R',\n  'symbolSize': 10.0,\n  'value': 1,\n  'category': 0},\n {'id': 94,\n  'name': 'Cerebelum_3_L',\n  'symbolSize': 10.0,\n  'value': 1,\n  'category': 0},\n {'id': 95,\n  'name': 'Cerebelum_3_R',\n  'symbolSize': 10.0,\n  'value': 1,\n  'category': 0},\n {'id': 96,\n  'name': 'Cerebelum_4_5_L',\n  'symbolSize': 10.0,\n  'value': 1,\n  'category': 0},\n {'id': 97,\n  'name': 'Cerebelum_4_5_R',\n  'symbolSize': 10.0,\n  'value': 1,\n  'category': 0},\n {'id': 98,\n  'name': 'Cerebelum_6_L',\n  'symbolSize': 10.0,\n  'value': 1,\n  'category': 0},\n {'id': 99,\n  'name': 'Cerebelum_6_R',\n  'symbolSize': 10.0,\n  'value': 1,\n  'category': 0},\n {'id': 100,\n  'name': 'Cerebelum_7b_L',\n  'symbolSize': 10.0,\n  'value': 1,\n  'category': 0},\n {'id': 101,\n  'name': 'Cerebelum_7b_R',\n  'symbolSize': 10.0,\n  'value': 1,\n  'category': 0},\n {'id': 102,\n  'name': 'Cerebelum_8_L',\n  'symbolSize': 10.0,\n  'value': 1,\n  'category': 0},\n {'id': 103,\n  'name': 'Cerebelum_8R',\n  'symbolSize': 10.0,\n  'value': 1,\n  'category': 0},\n {'id': 104,\n  'name': 'Cerebelum_9_L',\n  'symbolSize': 10.0,\n  'value': 1,\n  'category': 0},\n {'id': 105,\n  'name': 'Cerebelum_9_R',\n  'symbolSize': 10.0,\n  'value': 1,\n  'category': 0},\n {'id': 106,\n  'name': 'Cerebelum_10_L',\n  'symbolSize': 10.0,\n  'value': 1,\n  'category': 0},\n {'id': 107,\n  'name': 'Cerebelum_10_R',\n  'symbolSize': 10.0,\n  'value': 1,\n  'category': 0},\n {'id': 108,\n  'name': 'Vermis_1_2',\n  'symbolSize': 10.0,\n  'value': 1,\n  'category': 0},\n {'id': 109,\n  'name': 'Vermis_3',\n  'symbolSize': 10.0,\n  'value': 1,\n  'category': 0},\n {'id': 110,\n  'name': 'Vermis_4_5',\n  'symbolSize': 10.0,\n  'value': 1,\n  'category': 0},\n {'id': 111,\n  'name': 'Vermis_6',\n  'symbolSize': 10.0,\n  'value': 1,\n  'category': 0},\n {'id': 112,\n  'name': 'Vermis_7',\n  'symbolSize': 10.0,\n  'value': 1,\n  'category': 0},\n {'id': 113,\n  'name': 'Vermis_8',\n  'symbolSize': 10.0,\n  'value': 1,\n  'category': 0},\n {'id': 114,\n  'name': 'Vermis_9',\n  'symbolSize': 10.0,\n  'value': 1,\n  'category': 0},\n {'id': 115,\n  'name': 'Vermis_10',\n  'symbolSize': 10.0,\n  'value': 1,\n  'category': 0}]"
     },
     "execution_count": 34,
     "metadata": {},
     "output_type": "execute_result"
    }
   ],
   "source": [
    "nodes = []\n",
    "for i in range(116):\n",
    "    subnodes = {}\n",
    "    subnodes['id'] = i\n",
    "    subnodes['name'] = label_116[i]\n",
    "    subnodes['symbolSize'] = size[i]*5+10\n",
    "    subnodes['value'] = 1\n",
    "    subnodes['category'] = 0\n",
    "    nodes.append(subnodes)\n",
    "jsons['nodes'] = nodes\n",
    "nodes"
   ],
   "metadata": {
    "collapsed": false
   }
  },
  {
   "cell_type": "code",
   "execution_count": 35,
   "outputs": [
    {
     "data": {
      "text/plain": "{'links': [{'source': 30, 'target': 87},\n  {'source': 9, 'target': 67},\n  {'source': 22, 'target': 27},\n  {'source': 57, 'target': 77},\n  {'source': 80, 'target': 77},\n  {'source': 8, 'target': 9},\n  {'source': 23, 'target': 27},\n  {'source': 23, 'target': 87},\n  {'source': 77, 'target': 81},\n  {'source': 22, 'target': 87},\n  {'source': 8, 'target': 26},\n  {'source': 17, 'target': 77},\n  {'source': 9, 'target': 87},\n  {'source': 26, 'target': 84},\n  {'source': 67, 'target': 87},\n  {'source': 35, 'target': 61},\n  {'source': 8, 'target': 87},\n  {'source': 80, 'target': 91},\n  {'source': 60, 'target': 35},\n  {'source': 66, 'target': 9}],\n 'nodes': [{'id': 0,\n   'name': 'PreCG.L',\n   'symbolSize': 10.0,\n   'value': 1,\n   'category': 0},\n  {'id': 1, 'name': 'PreCG.R', 'symbolSize': 10.0, 'value': 1, 'category': 0},\n  {'id': 2, 'name': 'SFGdor.L', 'symbolSize': 10.0, 'value': 1, 'category': 0},\n  {'id': 3, 'name': 'SFGdor.R', 'symbolSize': 10.0, 'value': 1, 'category': 0},\n  {'id': 4, 'name': 'ORBsup.L', 'symbolSize': 10.0, 'value': 1, 'category': 0},\n  {'id': 5, 'name': 'ORBsup.R', 'symbolSize': 10.0, 'value': 1, 'category': 0},\n  {'id': 6, 'name': 'MFG.L', 'symbolSize': 10.0, 'value': 1, 'category': 0},\n  {'id': 7, 'name': 'MFG.R', 'symbolSize': 10.0, 'value': 1, 'category': 0},\n  {'id': 8, 'name': 'ORBmid.L', 'symbolSize': 25.0, 'value': 1, 'category': 0},\n  {'id': 9, 'name': 'ORBmid.R', 'symbolSize': 30.0, 'value': 1, 'category': 0},\n  {'id': 10,\n   'name': 'IFGoperc.L',\n   'symbolSize': 10.0,\n   'value': 1,\n   'category': 0},\n  {'id': 11,\n   'name': 'IFGoperc.R',\n   'symbolSize': 10.0,\n   'value': 1,\n   'category': 0},\n  {'id': 12,\n   'name': 'IFGtriang.L',\n   'symbolSize': 10.0,\n   'value': 1,\n   'category': 0},\n  {'id': 13,\n   'name': 'IFGtriang.R',\n   'symbolSize': 10.0,\n   'value': 1,\n   'category': 0},\n  {'id': 14,\n   'name': 'ORBinf.L',\n   'symbolSize': 10.0,\n   'value': 1,\n   'category': 0},\n  {'id': 15,\n   'name': 'ORBinf.R',\n   'symbolSize': 10.0,\n   'value': 1,\n   'category': 0},\n  {'id': 16, 'name': 'ROL.L', 'symbolSize': 10.0, 'value': 1, 'category': 0},\n  {'id': 17, 'name': 'ROL.R', 'symbolSize': 15.0, 'value': 1, 'category': 0},\n  {'id': 18, 'name': 'SMA.L', 'symbolSize': 10.0, 'value': 1, 'category': 0},\n  {'id': 19, 'name': 'SMA.R', 'symbolSize': 10.0, 'value': 1, 'category': 0},\n  {'id': 20, 'name': 'OLF.L', 'symbolSize': 10.0, 'value': 1, 'category': 0},\n  {'id': 21, 'name': 'OLF.R', 'symbolSize': 10.0, 'value': 1, 'category': 0},\n  {'id': 22,\n   'name': 'SFGmed.L',\n   'symbolSize': 20.0,\n   'value': 1,\n   'category': 0},\n  {'id': 23,\n   'name': 'SFGmed.R',\n   'symbolSize': 20.0,\n   'value': 1,\n   'category': 0},\n  {'id': 24,\n   'name': 'ORBsupmed.L',\n   'symbolSize': 10.0,\n   'value': 1,\n   'category': 0},\n  {'id': 25,\n   'name': 'ORBsupmed.R',\n   'symbolSize': 10.0,\n   'value': 1,\n   'category': 0},\n  {'id': 26, 'name': 'REC.L', 'symbolSize': 20.0, 'value': 1, 'category': 0},\n  {'id': 27, 'name': 'REC.R', 'symbolSize': 20.0, 'value': 1, 'category': 0},\n  {'id': 28, 'name': 'INS.L', 'symbolSize': 10.0, 'value': 1, 'category': 0},\n  {'id': 29, 'name': 'INS.R', 'symbolSize': 10.0, 'value': 1, 'category': 0},\n  {'id': 30, 'name': 'ACG.L', 'symbolSize': 15.0, 'value': 1, 'category': 0},\n  {'id': 31, 'name': 'ACG.R', 'symbolSize': 10.0, 'value': 1, 'category': 0},\n  {'id': 32, 'name': 'DCG.L', 'symbolSize': 10.0, 'value': 1, 'category': 0},\n  {'id': 33, 'name': 'DCG.R', 'symbolSize': 10.0, 'value': 1, 'category': 0},\n  {'id': 34, 'name': 'PCG.L', 'symbolSize': 10.0, 'value': 1, 'category': 0},\n  {'id': 35, 'name': 'PCG.R', 'symbolSize': 20.0, 'value': 1, 'category': 0},\n  {'id': 36, 'name': 'HIP.L', 'symbolSize': 10.0, 'value': 1, 'category': 0},\n  {'id': 37, 'name': 'HIP.R', 'symbolSize': 10.0, 'value': 1, 'category': 0},\n  {'id': 38, 'name': 'PHG.L', 'symbolSize': 10.0, 'value': 1, 'category': 0},\n  {'id': 39, 'name': 'PHG.R', 'symbolSize': 10.0, 'value': 1, 'category': 0},\n  {'id': 40, 'name': 'AMYG.L', 'symbolSize': 10.0, 'value': 1, 'category': 0},\n  {'id': 41, 'name': 'AMYG.R', 'symbolSize': 10.0, 'value': 1, 'category': 0},\n  {'id': 42, 'name': 'CAL.L', 'symbolSize': 10.0, 'value': 1, 'category': 0},\n  {'id': 43, 'name': 'CAL.R', 'symbolSize': 10.0, 'value': 1, 'category': 0},\n  {'id': 44, 'name': 'CUN.L', 'symbolSize': 10.0, 'value': 1, 'category': 0},\n  {'id': 45, 'name': 'CUN.R', 'symbolSize': 10.0, 'value': 1, 'category': 0},\n  {'id': 46, 'name': 'LING.L', 'symbolSize': 10.0, 'value': 1, 'category': 0},\n  {'id': 47, 'name': 'LING.R', 'symbolSize': 10.0, 'value': 1, 'category': 0},\n  {'id': 48, 'name': 'SOG.L', 'symbolSize': 10.0, 'value': 1, 'category': 0},\n  {'id': 49, 'name': 'SOG.R', 'symbolSize': 10.0, 'value': 1, 'category': 0},\n  {'id': 50, 'name': 'MOG.L', 'symbolSize': 10.0, 'value': 1, 'category': 0},\n  {'id': 51, 'name': 'MOG.R', 'symbolSize': 10.0, 'value': 1, 'category': 0},\n  {'id': 52, 'name': 'IOG.L', 'symbolSize': 10.0, 'value': 1, 'category': 0},\n  {'id': 53, 'name': 'IOG.R', 'symbolSize': 10.0, 'value': 1, 'category': 0},\n  {'id': 54, 'name': 'FFG.L', 'symbolSize': 10.0, 'value': 1, 'category': 0},\n  {'id': 55, 'name': 'FFG.R', 'symbolSize': 10.0, 'value': 1, 'category': 0},\n  {'id': 56, 'name': 'PoCG.L', 'symbolSize': 10.0, 'value': 1, 'category': 0},\n  {'id': 57, 'name': 'PoCG.R', 'symbolSize': 15.0, 'value': 1, 'category': 0},\n  {'id': 58, 'name': 'SPG.L', 'symbolSize': 10.0, 'value': 1, 'category': 0},\n  {'id': 59, 'name': 'SPG.R', 'symbolSize': 10.0, 'value': 1, 'category': 0},\n  {'id': 60, 'name': 'IPL.L', 'symbolSize': 15.0, 'value': 1, 'category': 0},\n  {'id': 61, 'name': 'IPL.R', 'symbolSize': 15.0, 'value': 1, 'category': 0},\n  {'id': 62, 'name': 'SMG.L', 'symbolSize': 10.0, 'value': 1, 'category': 0},\n  {'id': 63, 'name': 'SMG.R', 'symbolSize': 10.0, 'value': 1, 'category': 0},\n  {'id': 64, 'name': 'ANG.L', 'symbolSize': 10.0, 'value': 1, 'category': 0},\n  {'id': 65, 'name': 'ANG.R', 'symbolSize': 10.0, 'value': 1, 'category': 0},\n  {'id': 66, 'name': 'PCUN.L', 'symbolSize': 15.0, 'value': 1, 'category': 0},\n  {'id': 67, 'name': 'PCUN.R', 'symbolSize': 20.0, 'value': 1, 'category': 0},\n  {'id': 68, 'name': 'PCL.L', 'symbolSize': 10.0, 'value': 1, 'category': 0},\n  {'id': 69, 'name': 'PCL.R', 'symbolSize': 10.0, 'value': 1, 'category': 0},\n  {'id': 70, 'name': 'CAU.L', 'symbolSize': 10.0, 'value': 1, 'category': 0},\n  {'id': 71, 'name': 'CAU.R', 'symbolSize': 10.0, 'value': 1, 'category': 0},\n  {'id': 72, 'name': 'PUT.L', 'symbolSize': 10.0, 'value': 1, 'category': 0},\n  {'id': 73, 'name': 'PUT.R', 'symbolSize': 10.0, 'value': 1, 'category': 0},\n  {'id': 74, 'name': 'PAL.L', 'symbolSize': 10.0, 'value': 1, 'category': 0},\n  {'id': 75, 'name': 'PAL.R', 'symbolSize': 10.0, 'value': 1, 'category': 0},\n  {'id': 76, 'name': 'THA.L', 'symbolSize': 10.0, 'value': 1, 'category': 0},\n  {'id': 77, 'name': 'THA.R', 'symbolSize': 30.0, 'value': 1, 'category': 0},\n  {'id': 78, 'name': 'HES.L', 'symbolSize': 10.0, 'value': 1, 'category': 0},\n  {'id': 79, 'name': 'HES.R', 'symbolSize': 10.0, 'value': 1, 'category': 0},\n  {'id': 80, 'name': 'STG.L', 'symbolSize': 20.0, 'value': 1, 'category': 0},\n  {'id': 81, 'name': 'STG.R', 'symbolSize': 15.0, 'value': 1, 'category': 0},\n  {'id': 82,\n   'name': 'TPOsup.L',\n   'symbolSize': 10.0,\n   'value': 1,\n   'category': 0},\n  {'id': 83,\n   'name': 'TPOsup.R',\n   'symbolSize': 10.0,\n   'value': 1,\n   'category': 0},\n  {'id': 84, 'name': 'MTG.L', 'symbolSize': 15.0, 'value': 1, 'category': 0},\n  {'id': 85, 'name': 'MTG.R', 'symbolSize': 10.0, 'value': 1, 'category': 0},\n  {'id': 86,\n   'name': 'TPOmid.L',\n   'symbolSize': 10.0,\n   'value': 1,\n   'category': 0},\n  {'id': 87,\n   'name': 'TPOmid.R',\n   'symbolSize': 40.0,\n   'value': 1,\n   'category': 0},\n  {'id': 88, 'name': 'ITG.L', 'symbolSize': 10.0, 'value': 1, 'category': 0},\n  {'id': 89, 'name': 'ITG.R', 'symbolSize': 10.0, 'value': 1, 'category': 0},\n  {'id': 90,\n   'name': 'Cerebelum_Crus1_L',\n   'symbolSize': 10.0,\n   'value': 1,\n   'category': 0},\n  {'id': 91,\n   'name': 'Cerebelum_Crus1_R',\n   'symbolSize': 15.0,\n   'value': 1,\n   'category': 0},\n  {'id': 92,\n   'name': 'Cerebelum_Crus2_L',\n   'symbolSize': 10.0,\n   'value': 1,\n   'category': 0},\n  {'id': 93,\n   'name': 'Cerebelum_Crus2_R',\n   'symbolSize': 10.0,\n   'value': 1,\n   'category': 0},\n  {'id': 94,\n   'name': 'Cerebelum_3_L',\n   'symbolSize': 10.0,\n   'value': 1,\n   'category': 0},\n  {'id': 95,\n   'name': 'Cerebelum_3_R',\n   'symbolSize': 10.0,\n   'value': 1,\n   'category': 0},\n  {'id': 96,\n   'name': 'Cerebelum_4_5_L',\n   'symbolSize': 10.0,\n   'value': 1,\n   'category': 0},\n  {'id': 97,\n   'name': 'Cerebelum_4_5_R',\n   'symbolSize': 10.0,\n   'value': 1,\n   'category': 0},\n  {'id': 98,\n   'name': 'Cerebelum_6_L',\n   'symbolSize': 10.0,\n   'value': 1,\n   'category': 0},\n  {'id': 99,\n   'name': 'Cerebelum_6_R',\n   'symbolSize': 10.0,\n   'value': 1,\n   'category': 0},\n  {'id': 100,\n   'name': 'Cerebelum_7b_L',\n   'symbolSize': 10.0,\n   'value': 1,\n   'category': 0},\n  {'id': 101,\n   'name': 'Cerebelum_7b_R',\n   'symbolSize': 10.0,\n   'value': 1,\n   'category': 0},\n  {'id': 102,\n   'name': 'Cerebelum_8_L',\n   'symbolSize': 10.0,\n   'value': 1,\n   'category': 0},\n  {'id': 103,\n   'name': 'Cerebelum_8R',\n   'symbolSize': 10.0,\n   'value': 1,\n   'category': 0},\n  {'id': 104,\n   'name': 'Cerebelum_9_L',\n   'symbolSize': 10.0,\n   'value': 1,\n   'category': 0},\n  {'id': 105,\n   'name': 'Cerebelum_9_R',\n   'symbolSize': 10.0,\n   'value': 1,\n   'category': 0},\n  {'id': 106,\n   'name': 'Cerebelum_10_L',\n   'symbolSize': 10.0,\n   'value': 1,\n   'category': 0},\n  {'id': 107,\n   'name': 'Cerebelum_10_R',\n   'symbolSize': 10.0,\n   'value': 1,\n   'category': 0},\n  {'id': 108,\n   'name': 'Vermis_1_2',\n   'symbolSize': 10.0,\n   'value': 1,\n   'category': 0},\n  {'id': 109,\n   'name': 'Vermis_3',\n   'symbolSize': 10.0,\n   'value': 1,\n   'category': 0},\n  {'id': 110,\n   'name': 'Vermis_4_5',\n   'symbolSize': 10.0,\n   'value': 1,\n   'category': 0},\n  {'id': 111,\n   'name': 'Vermis_6',\n   'symbolSize': 10.0,\n   'value': 1,\n   'category': 0},\n  {'id': 112,\n   'name': 'Vermis_7',\n   'symbolSize': 10.0,\n   'value': 1,\n   'category': 0},\n  {'id': 113,\n   'name': 'Vermis_8',\n   'symbolSize': 10.0,\n   'value': 1,\n   'category': 0},\n  {'id': 114,\n   'name': 'Vermis_9',\n   'symbolSize': 10.0,\n   'value': 1,\n   'category': 0},\n  {'id': 115,\n   'name': 'Vermis_10',\n   'symbolSize': 10.0,\n   'value': 1,\n   'category': 0}],\n 'categories': [{'name': 'A'}]}"
     },
     "execution_count": 35,
     "metadata": {},
     "output_type": "execute_result"
    }
   ],
   "source": [
    "jsons['categories'] =[{\"name\": \"A\"}]\n",
    "jsons"
   ],
   "metadata": {
    "collapsed": false
   }
  },
  {
   "cell_type": "code",
   "execution_count": 36,
   "outputs": [],
   "source": [
    "with open(\"../description/aal_json.json\",'w') as f:\n",
    "    json.dump(jsons, f, indent=4, sort_keys=True, ensure_ascii=False)"
   ],
   "metadata": {
    "collapsed": false
   }
  },
  {
   "cell_type": "code",
   "execution_count": null,
   "outputs": [],
   "source": [],
   "metadata": {
    "collapsed": false
   }
  }
 ],
 "metadata": {
  "kernelspec": {
   "display_name": "Python 3",
   "language": "python",
   "name": "python3"
  },
  "language_info": {
   "codemirror_mode": {
    "name": "ipython",
    "version": 2
   },
   "file_extension": ".py",
   "mimetype": "text/x-python",
   "name": "python",
   "nbconvert_exporter": "python",
   "pygments_lexer": "ipython2",
   "version": "2.7.6"
  }
 },
 "nbformat": 4,
 "nbformat_minor": 0
}
